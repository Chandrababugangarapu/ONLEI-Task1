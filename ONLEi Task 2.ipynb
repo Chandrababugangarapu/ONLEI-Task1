{
 "cells": [
  {
   "cell_type": "code",
   "execution_count": 1,
   "id": "8ba875f2-bc06-4cf4-a0ab-64cc17a5b088",
   "metadata": {},
   "outputs": [],
   "source": [
    "# Given:      str1 = '/*Jon is @developer & musician!!'"
   ]
  },
  {
   "cell_type": "code",
   "execution_count": 3,
   "id": "b2c58063-48a0-4817-a67b-7ca57c125126",
   "metadata": {},
   "outputs": [
    {
     "name": "stdout",
     "output_type": "stream",
     "text": [
      "/\n",
      "p\n",
      "!\n"
     ]
    }
   ],
   "source": [
    "#Exercise 1A: Create a string made of the first, middle and last character\n",
    "str1 = '/*Jon is @developer & musician!!'\n",
    "L = len(str1)\n",
    "print(str1[0])\n",
    "print(str1[int(L/2)])\n",
    "print(str1[-1])"
   ]
  },
  {
   "cell_type": "code",
   "execution_count": 5,
   "id": "2858cec8-223f-4933-8887-4c4db5d4b4f8",
   "metadata": {},
   "outputs": [
    {
     "name": "stdout",
     "output_type": "stream",
     "text": [
      "ope\n"
     ]
    }
   ],
   "source": [
    "#Exercise 1B: Create a string made of the middle three characters\n",
    "str1 = '/*Jon is @developer & musician!!'\n",
    "L = len(str1)\n",
    "x = int(L/2)\n",
    "print(str1[x-1] + str1[x] + str1[x+1] )\n"
   ]
  },
  {
   "cell_type": "code",
   "execution_count": 8,
   "id": "1ab15ed2-7266-4da2-87ff-fc9d4c38d02e",
   "metadata": {},
   "outputs": [
    {
     "name": "stdout",
     "output_type": "stream",
     "text": [
      "/*Jon is @develochandraper & musician!!\n"
     ]
    }
   ],
   "source": [
    "#Exercise 2: Append new string in the middle of a given string\n",
    "str1 = '/*Jon is @developer & musician!!'\n",
    "L = len(str1)\n",
    "x = int(L/2)\n",
    "new_string = 'chandra'\n",
    "print( str1[:x] + new_string + str1[x:])"
   ]
  },
  {
   "cell_type": "code",
   "execution_count": 10,
   "id": "42e1ca8d-c906-422b-854c-e5dc95b3081d",
   "metadata": {},
   "outputs": [
    {
     "name": "stdout",
     "output_type": "stream",
     "text": [
      "chandra*Jon is @develochandraper & musician!chandra\n"
     ]
    }
   ],
   "source": [
    "# Exercise 3: Create a new string made of the first, middle, and last characters of each input string\n",
    "str1 = '/*Jon is @developer & musician!!'\n",
    "L = len(str1)\n",
    "x = int(L/2)\n",
    "new_string = 'chandra'\n",
    "print( new_string + str1[1:x] + new_string + str1[x:-1] + new_string)"
   ]
  },
  {
   "cell_type": "code",
   "execution_count": 14,
   "id": "69e0dfb9-3550-4c06-a52a-79d0265c71b9",
   "metadata": {},
   "outputs": [
    {
     "name": "stdout",
     "output_type": "stream",
     "text": [
      "onisdevelopermusician/*J  @ & !!\n"
     ]
    }
   ],
   "source": [
    "#Exercise 4: Arrange string characters such that lowercase letters should come first\n",
    "str1 = '/*Jon is @developer & musician!!'\n",
    "arranged_str = ''\n",
    "for char in str1:\n",
    "  # Check if the character is lowercase\n",
    "  if char.islower():\n",
    "    arranged_str += char\n",
    "\n",
    "arranged_str += ''.join([char for char in str1 if not char.islower()])\n",
    "\n",
    "print(arranged_str)\n"
   ]
  },
  {
   "cell_type": "code",
   "execution_count": 15,
   "id": "e1ae1990-89a9-457c-a415-516be4e6709b",
   "metadata": {},
   "outputs": [
    {
     "name": "stdout",
     "output_type": "stream",
     "text": [
      "Letters: 22\n",
      "Digits: 0\n",
      "Special Symbols: 10\n"
     ]
    }
   ],
   "source": [
    "#Exercise 5: Count all letters, digits, and special symbols from a given string\n",
    "str1 = '/*Jon is @developer & musician!!'\n",
    "letters = 0\n",
    "digits = 0\n",
    "special_symbols = 0\n",
    "\n",
    "for char in str1:\n",
    "  if char.isalpha():\n",
    "    letters += 1\n",
    "  elif char.isdigit():\n",
    "    digits += 1\n",
    "  else:\n",
    "    special_symbols += 1\n",
    "\n",
    "print(\"Letters:\", letters)\n",
    "print(\"Digits:\", digits)\n",
    "print(\"Special Symbols:\", special_symbols)\n"
   ]
  },
  {
   "cell_type": "code",
   "execution_count": 16,
   "id": "8f74a116-f6f2-4c09-9333-4b0636f96b6a",
   "metadata": {},
   "outputs": [
    {
     "name": "stdout",
     "output_type": "stream",
     "text": [
      "The characters in str1 are not balanced with str2.\n"
     ]
    }
   ],
   "source": [
    "#Exercise 7: String characters balance Test\n",
    "str1 = '/*Jon is @developer & musician!!'\n",
    "str2 = '!!devel&per is a JonMusician'\n",
    "\n",
    "# Convert to sets (ignoring case for simplicity)\n",
    "set1 = set(str1.lower())\n",
    "set2 = set(str2.lower())\n",
    "\n",
    "# Check if characters in str1 are balanced with str2\n",
    "is_balanced = set1.issubset(set2)\n",
    "\n",
    "if is_balanced:\n",
    "  print(\"The characters in str1 are balanced with str2.\")\n",
    "else:\n",
    "  print(\"The characters in str1 are not balanced with str2.\")\n"
   ]
  },
  {
   "cell_type": "code",
   "execution_count": 17,
   "id": "a99c8767-9e79-4a1b-9753-f78821e840f7",
   "metadata": {},
   "outputs": [
    {
     "name": "stdout",
     "output_type": "stream",
     "text": [
      "Occurrences of 'is' (ignoring case): [6]\n"
     ]
    }
   ],
   "source": [
    "#Exercise 8: Find all occurrences of a substring in a given string by ignoring the case\n",
    "str1 = '/*Jon is @developer & musician!!'\n",
    "substring = \"is\"  # Substring to find (case-insensitive)\n",
    "\n",
    "lower_str1 = str1.lower()  # Convert both strings to lowercase\n",
    "lower_substring = substring.lower()\n",
    "\n",
    "occurrences = []\n",
    "start_index = 0\n",
    "while True:\n",
    "  start_index = lower_str1.find(lower_substring, start_index)\n",
    "  if start_index == -1:\n",
    "    break\n",
    "  occurrences.append(start_index)\n",
    "  start_index += len(substring)  # Move to the character after the found substring\n",
    "\n",
    "print(f\"Occurrences of '{substring}' (ignoring case): {occurrences}\")\n"
   ]
  },
  {
   "cell_type": "code",
   "execution_count": 18,
   "id": "523c4934-d406-4609-af77-7ef20ea9536e",
   "metadata": {},
   "outputs": [
    {
     "name": "stdout",
     "output_type": "stream",
     "text": [
      "No digits found in the string.\n"
     ]
    }
   ],
   "source": [
    "#Exercise 9: Calculate the sum and average of the digits present in a string\n",
    "str1 = '/*Jon is @developer & musician!!'\n",
    "\n",
    "sum_of_digits = 0\n",
    "number_of_digits = 0\n",
    "\n",
    "for char in str1:\n",
    "  if char.isdigit():\n",
    "    sum_of_digits += int(char)\n",
    "    number_of_digits += 1\n",
    "\n",
    "if number_of_digits > 0:\n",
    "  average_of_digits = sum_of_digits / number_of_digits\n",
    "  print(f\"Sum of digits: {sum_of_digits}\")\n",
    "  print(f\"Average of digits: {average_of_digits:.2f}\")  # Format to 2 decimal places\n",
    "else:\n",
    "  print(\"No digits found in the string.\")\n"
   ]
  },
  {
   "cell_type": "code",
   "execution_count": 19,
   "id": "5d2430ea-54e8-42d2-9f16-b8fb535c3b56",
   "metadata": {},
   "outputs": [
    {
     "name": "stdout",
     "output_type": "stream",
     "text": [
      "Character '/': 1 occurrences\n",
      "Character '*': 1 occurrences\n",
      "Character 'J': 1 occurrences\n",
      "Character 'o': 2 occurrences\n",
      "Character 'n': 2 occurrences\n",
      "Character ' ': 4 occurrences\n",
      "Character 'i': 3 occurrences\n",
      "Character 's': 2 occurrences\n",
      "Character '@': 1 occurrences\n",
      "Character 'd': 1 occurrences\n",
      "Character 'e': 3 occurrences\n",
      "Character 'v': 1 occurrences\n",
      "Character 'l': 1 occurrences\n",
      "Character 'p': 1 occurrences\n",
      "Character 'r': 1 occurrences\n",
      "Character '&': 1 occurrences\n",
      "Character 'm': 1 occurrences\n",
      "Character 'u': 1 occurrences\n",
      "Character 'c': 1 occurrences\n",
      "Character 'a': 1 occurrences\n",
      "Character '!': 2 occurrences\n"
     ]
    }
   ],
   "source": [
    "#Exercise 10: Write a program to count occurrences of all characters within a string\n",
    "str1 = '/*Jon is @developer & musician!!'\n",
    "\n",
    "char_counts = {}\n",
    "for char in str1:\n",
    "  if char not in char_counts:\n",
    "    char_counts[char] = 0\n",
    "  char_counts[char] += 1\n",
    "\n",
    "# Print character counts\n",
    "for char, count in char_counts.items():\n",
    "  print(f\"Character '{char}': {count} occurrences\")\n"
   ]
  },
  {
   "cell_type": "code",
   "execution_count": 21,
   "id": "8c306524-2a01-4b13-95e2-759e4001691a",
   "metadata": {},
   "outputs": [
    {
     "name": "stdout",
     "output_type": "stream",
     "text": [
      "Reversed string: !!naicisum & repoleved@ si noJ*/\n"
     ]
    }
   ],
   "source": [
    "# Exercise 11: Reverse a given string\n",
    "str1 = '/*Jon is @developer & musician!!'\n",
    "\n",
    "reversed_str = str1[::-1]\n",
    "\n",
    "print(f\"Reversed string: {reversed_str}\")\n"
   ]
  },
  {
   "cell_type": "code",
   "execution_count": 22,
   "id": "31353404-5918-4f5e-9766-b3ed48ad27e3",
   "metadata": {},
   "outputs": [
    {
     "name": "stdout",
     "output_type": "stream",
     "text": [
      "Last position of 'developer' in '/*Jon is @developer & musician!!' is: 10\n"
     ]
    }
   ],
   "source": [
    "#Exercise 12: Find the last position of a given substring\n",
    "\n",
    "str1 = '/*Jon is @developer & musician!!'\n",
    "substring = 'developer'\n",
    "\n",
    "last_position = str1.rfind(substring)\n",
    "\n",
    "if last_position != -1:\n",
    "    print(\"Last position of '{}' in '{}' is: {}\".format(substring, str1, last_position))\n",
    "else:\n",
    "    print(\"Substring '{}' not found in '{}'\".format(substring, str1))\n"
   ]
  },
  {
   "cell_type": "code",
   "execution_count": 31,
   "id": "fddae918-9683-43cd-b944-1199fd97787b",
   "metadata": {},
   "outputs": [
    {
     "name": "stdout",
     "output_type": "stream",
     "text": [
      "/*Jon-is-@developer-&-musician!!\n"
     ]
    }
   ],
   "source": [
    "# Exercise 13: Split a string on hyphens \n",
    "\n",
    "str1 = '/*Jon is @developer & musician!!'\n",
    "new_string = \"\"\n",
    "\n",
    "for char in str1:\n",
    "    if char == \" \":\n",
    "        new_string += \"-\"  # Add a separate hyphen character\n",
    "    else:\n",
    "        new_string += char\n",
    "\n",
    "print(new_string)"
   ]
  },
  {
   "cell_type": "code",
   "execution_count": 32,
   "id": "fd370ac4-b21c-4e93-aa11-2116e517b94d",
   "metadata": {},
   "outputs": [
    {
     "name": "stdout",
     "output_type": "stream",
     "text": [
      "['/*Jon', 'is', '@developer', '&', 'musician!!']\n"
     ]
    }
   ],
   "source": [
    "#Exercise 14: Remove empty strings from a list of strings\n",
    "# Function to remove empty strings from a list of strings\n",
    "def remove_empty_strings(strings):\n",
    "    return [string for string in strings if string]\n",
    "\n",
    "# Given string\n",
    "str1 = '/*Jon is @developer & musician!!'\n",
    "\n",
    "# Split the string into a list of strings\n",
    "strings_list = str1.split()\n",
    "\n",
    "# Remove empty strings from the list\n",
    "filtered_strings = remove_empty_strings(strings_list)\n",
    "\n",
    "# Print the filtered list\n",
    "print(filtered_strings)\n"
   ]
  },
  {
   "cell_type": "code",
   "execution_count": 33,
   "id": "c314e4c5-b56c-4fef-a1e9-2a0101ff8ef2",
   "metadata": {},
   "outputs": [
    {
     "name": "stdout",
     "output_type": "stream",
     "text": [
      "Jon is developer  musician\n"
     ]
    }
   ],
   "source": [
    "#Exercise 15: Remove special symbols / punctuation from a string\n",
    "def remove_special_chars(text):\n",
    "  # Use isalnum() for efficiency and clarity\n",
    "  filtered_chars = ''.join(char for char in text if char.isalnum() or char.isspace())\n",
    "\n",
    "  return filtered_chars\n",
    "\n",
    "# Example usage\n",
    "str1 = '/*Jon is @developer & musician!!'\n",
    "filtered_text = remove_special_chars(str1)\n",
    "print(filtered_text) "
   ]
  },
  {
   "cell_type": "code",
   "execution_count": 36,
   "id": "54cf48a8-c254-4b17-9231-52e4b85ef50f",
   "metadata": {},
   "outputs": [
    {
     "name": "stdout",
     "output_type": "stream",
     "text": [
      "\n"
     ]
    }
   ],
   "source": []
  },
  {
   "cell_type": "code",
   "execution_count": 1,
   "id": "6ee746a4-4b3e-4e1b-a73e-dc84c4b32be3",
   "metadata": {},
   "outputs": [
    {
     "name": "stdout",
     "output_type": "stream",
     "text": [
      "\n"
     ]
    }
   ],
   "source": [
    "#Exercise 16: Removal all characters from a string except integers\n",
    "def remove_non_digits(text):\n",
    "  # Use filter() and isdigit() for efficiency and clarity\n",
    "  digits_only = ''.join(filter(str.isdigit, text))\n",
    "\n",
    "  return digits_only\n",
    "\n",
    "str1 = '/*Jon is @developer & musician!!'\n",
    "filtered_text = remove_non_digits(str1)\n",
    "print(filtered_text)  \n"
   ]
  },
  {
   "cell_type": "code",
   "execution_count": 2,
   "id": "d7bd1469-75d9-4aa8-89d9-87f8cf784ca4",
   "metadata": {},
   "outputs": [
    {
     "name": "stdout",
     "output_type": "stream",
     "text": [
      "[]\n"
     ]
    }
   ],
   "source": [
    "# Exercise 17: Find words with both alphabets and numbers                                                \n",
    "# Given:  str1 = '/*Jon is @developer & musician!!'\n",
    "def find_alphanumeric_words(text):\n",
    "\n",
    "  # Split the string into words\n",
    "  words = text.split()\n",
    "\n",
    "  # Use a list comprehension for efficiency\n",
    "  alphanumeric_words = [word for word in words if word.isalnum() and not (word.isalpha() or word.isdigit())]\n",
    "\n",
    "  return alphanumeric_words\n",
    "\n",
    "# Example usage\n",
    "str1 = '/*Jon is @developer & musician!!'\n",
    "words = find_alphanumeric_words(str1)\n",
    "print(words) "
   ]
  },
  {
   "cell_type": "code",
   "execution_count": null,
   "id": "2f8bf9b2-cfae-44aa-8199-fe315129467f",
   "metadata": {},
   "outputs": [],
   "source": []
  }
 ],
 "metadata": {
  "kernelspec": {
   "display_name": "Python 3 (ipykernel)",
   "language": "python",
   "name": "python3"
  },
  "language_info": {
   "codemirror_mode": {
    "name": "ipython",
    "version": 3
   },
   "file_extension": ".py",
   "mimetype": "text/x-python",
   "name": "python",
   "nbconvert_exporter": "python",
   "pygments_lexer": "ipython3",
   "version": "3.10.12"
  }
 },
 "nbformat": 4,
 "nbformat_minor": 5
}
