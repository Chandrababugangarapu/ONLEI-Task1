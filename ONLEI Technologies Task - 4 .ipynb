{
 "cells": [
  {
   "cell_type": "code",
   "execution_count": 1,
   "id": "8fc8aa93-85ed-4175-8267-7f68a4cab41d",
   "metadata": {},
   "outputs": [
    {
     "name": "stdout",
     "output_type": "stream",
     "text": [
      "The length of the array is: 5\n"
     ]
    }
   ],
   "source": [
    "# Python Program to calculate length of an array.\n",
    "import numpy as np\n",
    "\n",
    "# Create a sample array\n",
    "arr = np.array([1, 2, 3, 4, 5])\n",
    "length = len(arr)\n",
    "\n",
    "# Print the length of the array\n",
    "print(\"The length of the array is:\", length)\n"
   ]
  },
  {
   "cell_type": "code",
   "execution_count": 2,
   "id": "f7f67572-d8b9-4123-8ca7-e799bcdf299f",
   "metadata": {},
   "outputs": [
    {
     "name": "stdout",
     "output_type": "stream",
     "text": [
      "Array after inserting element: [1, 2, 3, 4, 5]\n"
     ]
    }
   ],
   "source": [
    "# Python program to insert an element at end of an Array.\n",
    "\n",
    "my_array = [1, 2, 3, 4]\n",
    "# Element to insert\n",
    "new_element = 5\n",
    "my_array.extend([new_element])\n",
    "print(\"Array after inserting element:\", my_array)\n"
   ]
  },
  {
   "cell_type": "code",
   "execution_count": 3,
   "id": "bc2f2664-c6b6-4f1b-898e-89db5f3fa024",
   "metadata": {},
   "outputs": [
    {
     "name": "stdin",
     "output_type": "stream",
     "text": [
      "Enter the element to insert:  25\n",
      "Enter the index to insert the element at:  3\n"
     ]
    },
    {
     "name": "stdout",
     "output_type": "stream",
     "text": [
      "Array after insertion: [10, 20, 30, 25, 40, 50]\n"
     ]
    }
   ],
   "source": [
    "#Python program to insert element at a given location in Array.\n",
    "def insert_element(arr, element, index):\n",
    "    if index < 0 or index > len(arr):\n",
    "        print(\"Invalid index\")\n",
    "    else:\n",
    "        arr.insert(index, element)\n",
    "    return arr\n",
    "\n",
    "# Input array\n",
    "array = [10, 20, 30, 40, 50]\n",
    "\n",
    "# Input from user\n",
    "element_to_insert = int(input(\"Enter the element to insert: \"))\n",
    "location = int(input(\"Enter the index to insert the element at: \"))\n",
    "\n",
    "# Insert the element\n",
    "array = insert_element(array, element_to_insert, location)\n",
    "\n",
    "# Output the modified array\n",
    "print(\"Array after insertion:\", array)\n"
   ]
  },
  {
   "cell_type": "code",
   "execution_count": 4,
   "id": "9b2b2ccf-ee2e-4f7c-b8eb-b4ce9c061e08",
   "metadata": {},
   "outputs": [
    {
     "name": "stdout",
     "output_type": "stream",
     "text": [
      "Original array: [1, 2, 3, 4]\n",
      "Removed element: 5\n"
     ]
    }
   ],
   "source": [
    "# Python Program to delete element at end of Array.\n",
    "my_array = [1, 2, 3, 4, 5]\n",
    "removed_element = my_array.pop()  \n",
    "\n",
    "print(\"Original array:\", my_array)  \n",
    "print(\"Removed element:\", removed_element)  \n"
   ]
  },
  {
   "cell_type": "code",
   "execution_count": 5,
   "id": "01349c80-4d53-40b1-84e5-1495297c59c3",
   "metadata": {},
   "outputs": [
    {
     "name": "stdout",
     "output_type": "stream",
     "text": [
      "Original array: [1, 2, 3, 4, 5, 2]\n",
      "Modified array: [1, 3, 4, 5, 2]\n"
     ]
    }
   ],
   "source": [
    "# Python Program to delete given element from Array.\n",
    "def delete_element(my_array, element):\n",
    "\n",
    "  try:\n",
    "    index = my_array.index(element)\n",
    "  except ValueError:\n",
    "    print(f\"Element {element} not found in the array.\")\n",
    "    return my_array  # Return original array if element not found\n",
    "\n",
    "  # Remove the element using pop\n",
    "  del my_array[index]\n",
    "  return my_array  \n",
    "\n",
    "# Example usage\n",
    "my_array = [1, 2, 3, 4, 5, 2]\n",
    "element_to_delete = 2\n",
    "\n",
    "modified_array = delete_element(my_array.copy(), element_to_delete) \n",
    "\n",
    "print(\"Original array:\", my_array)\n",
    "print(\"Modified array:\", modified_array)\n"
   ]
  },
  {
   "cell_type": "code",
   "execution_count": 6,
   "id": "19b8ffa8-cf5b-4565-a2b3-966d19a229f6",
   "metadata": {},
   "outputs": [
    {
     "name": "stdout",
     "output_type": "stream",
     "text": [
      "[1, 2, 4, 5]\n"
     ]
    }
   ],
   "source": [
    "#Python Program to delete element from array at given index.\n",
    "def delete_element(arr, index):\n",
    "  if not 0 <= index < len(arr):\n",
    "    raise IndexError(\"Index out of range\")\n",
    "  del arr[index]\n",
    "\n",
    "# Example usage\n",
    "my_list = [1, 2, 3, 4, 5]\n",
    "delete_element(my_list, 2)\n",
    "print(my_list)  # Output: [1, 2, 4, 5]\n"
   ]
  },
  {
   "cell_type": "code",
   "execution_count": 7,
   "id": "ab60667e-08e4-4bbe-941a-4efb28c3b4a4",
   "metadata": {},
   "outputs": [
    {
     "name": "stdout",
     "output_type": "stream",
     "text": [
      "15\n"
     ]
    }
   ],
   "source": [
    "#Python Program to find sum of array elements.\n",
    "\n",
    "my_list = [1, 2, 3, 4, 5]\n",
    "total_sum = sum(my_list)\n",
    "print(total_sum)  # Output: 15\n"
   ]
  },
  {
   "cell_type": "code",
   "execution_count": 8,
   "id": "475cfd42-6437-4cbf-9a8c-745c89a77d83",
   "metadata": {},
   "outputs": [
    {
     "name": "stdout",
     "output_type": "stream",
     "text": [
      "2\n",
      "4\n",
      "6\n"
     ]
    }
   ],
   "source": [
    "#Python Program to print all even numbers in array.\n",
    "def print_even_numbers(arr):\n",
    "  for num in arr:\n",
    "    if num % 2 == 0:\n",
    "      print(num)\n",
    "\n",
    "my_list = [1, 2, 3, 4, 5, 6]\n",
    "print_even_numbers(my_list)\n"
   ]
  },
  {
   "cell_type": "code",
   "execution_count": 9,
   "id": "e8600472-02da-4e04-83b9-cd66c194b53f",
   "metadata": {},
   "outputs": [
    {
     "name": "stdout",
     "output_type": "stream",
     "text": [
      "1\n",
      "3\n",
      "5\n"
     ]
    }
   ],
   "source": [
    "# Python Program to print all odd numbers in array.\n",
    "def print_odd_numbers(arr):\n",
    "  for num in arr:\n",
    "    if num % 2 != 0:\n",
    "      print(num)\n",
    "\n",
    "# Example usage\n",
    "my_list = [1, 2, 3, 4, 5, 6]\n",
    "print_odd_numbers(my_list)\n"
   ]
  },
  {
   "cell_type": "code",
   "execution_count": 10,
   "id": "6d42be36-9ab6-43ec-a734-ed85000bcc2c",
   "metadata": {},
   "outputs": [
    {
     "name": "stdout",
     "output_type": "stream",
     "text": [
      "[3, 4, 5, 1, 2]\n"
     ]
    }
   ],
   "source": [
    "#Python program to perform left rotation of array elements by two positions.\n",
    "def left_rotate(arr, d):\n",
    "  if d < 0:\n",
    "    raise ValueError(\"d must be a non-negative integer\")\n",
    "\n",
    "  n = len(arr)\n",
    "  d = d % n\n",
    "  for i in range(d):\n",
    "    temp = arr[0]\n",
    "    for j in range(n-1):\n",
    "      arr[j] = arr[j+1]\n",
    "    arr[n-1] = temp\n",
    "\n",
    "my_list = [1, 2, 3, 4, 5]\n",
    "left_rotate(my_list, 2)\n",
    "print(my_list)  # Output: [3, 4, 5, 1, 2]\n"
   ]
  },
  {
   "cell_type": "code",
   "execution_count": 12,
   "id": "e25082eb-d244-4bb2-b21a-36e2a543eea5",
   "metadata": {},
   "outputs": [
    {
     "name": "stdout",
     "output_type": "stream",
     "text": [
      "[5, 4, 2, 1, 3]\n"
     ]
    }
   ],
   "source": [
    "#Python program to perform right rotation in array by 2 positions.\n",
    "def right_rotate(arr, d):\n",
    "\n",
    "  if d < 0:\n",
    "    raise ValueError(\"d must be a non-negative integer\")\n",
    "\n",
    "  n = len(arr)\n",
    "  # Handle the case where d is greater than or equal to the array length\n",
    "  d = d % n\n",
    "\n",
    "  for i in range(n // 2):\n",
    "    arr[i], arr[n - i - 1] = arr[n - i - 1], arr[i]\n",
    "\n",
    "  # Reverse the first (n-d) elements\n",
    "  for i in range(n - d // 2):\n",
    "    arr[i], arr[n - d - i - 1] = arr[n - d - i - 1], arr[i]\n",
    "\n",
    "  # Reverse the last d elements\n",
    "  for i in range(d // 2):\n",
    "    arr[n - d - i - 1], arr[n - 1 - i] = arr[n - 1 - i], arr[n - d - i - 1]\n",
    "\n",
    "# Example usage\n",
    "my_list = [1, 2, 3, 4, 5]\n",
    "right_rotate(my_list, 2)\n",
    "print(my_list)  # Output: [4, 5, 1, 2, 3]\n"
   ]
  },
  {
   "cell_type": "code",
   "execution_count": 13,
   "id": "de5d359f-f54a-426a-9fdb-d71dcdc85289",
   "metadata": {},
   "outputs": [
    {
     "name": "stdout",
     "output_type": "stream",
     "text": [
      "[1, 2, 3]\n",
      "[1, 2, 3, 4, 5, 6]\n"
     ]
    }
   ],
   "source": [
    "#Python Program to merge two arrays.\n",
    "def merge_arrays_no_modify(arr1, arr2):\n",
    "\n",
    "  return arr1 + arr2\n",
    "\n",
    "# Example usage\n",
    "list1 = [1, 2, 3]\n",
    "list2 = [4, 5, 6]\n",
    "merged_list = merge_arrays_no_modify(list1, list2)\n",
    "print(list1)        \n",
    "print(merged_list) \n",
    "\n"
   ]
  },
  {
   "cell_type": "code",
   "execution_count": 14,
   "id": "325ddcda-5544-4009-804c-2c64e5fa49aa",
   "metadata": {},
   "outputs": [
    {
     "name": "stdout",
     "output_type": "stream",
     "text": [
      "Element with highest frequency: 1 (Frequency: 3)\n"
     ]
    }
   ],
   "source": [
    "#Python Program to find highest frequency element in array.\n",
    "from collections import Counter\n",
    "def find_highest_frequency(arr):\n",
    "  element_counts = Counter(arr)\n",
    "  # Find the element with the maximum count\n",
    "  max_count = max(element_counts.values())\n",
    "  # Filter elements with the maximum count\n",
    "  highest_frequency_elements = [element for element, count in element_counts.items() if count == max_count]\n",
    "  if len(highest_frequency_elements) == 1:\n",
    "    return highest_frequency_elements[0], max_count\n",
    "  else:\n",
    "    return highest_frequency_elements[0], max_count\n",
    "\n",
    "my_list = [1, 2, 3, 1, 1, 4, 2, 2]\n",
    "highest_frequency_element, frequency = find_highest_frequency(my_list)\n",
    "print(f\"Element with highest frequency: {highest_frequency_element} (Frequency: {frequency})\")\n"
   ]
  },
  {
   "cell_type": "code",
   "execution_count": 15,
   "id": "abcaf9ba-5ccc-4fb2-9079-61f84c007bcb",
   "metadata": {},
   "outputs": [
    {
     "name": "stdout",
     "output_type": "stream",
     "text": [
      "The sum of 5 and 3 is: 8\n"
     ]
    }
   ],
   "source": [
    "#Python Program to add two number using recursion.\n",
    "def add_recursive(a, b):\n",
    "  if b == 0:\n",
    "    return a\n",
    "  else:\n",
    "    return add_recursive(a + 1, b - 1)\n",
    "\n",
    "# Example usage\n",
    "num1 = 5\n",
    "num2 = 3\n",
    "sum = add_recursive(num1, num2)\n",
    "print(f\"The sum of {num1} and {num2} is: {sum}\")\n"
   ]
  },
  {
   "cell_type": "code",
   "execution_count": null,
   "id": "daed037b-eb30-4b35-bc8b-29e13e685d1a",
   "metadata": {},
   "outputs": [],
   "source": []
  }
 ],
 "metadata": {
  "kernelspec": {
   "display_name": "Python 3 (ipykernel)",
   "language": "python",
   "name": "python3"
  },
  "language_info": {
   "codemirror_mode": {
    "name": "ipython",
    "version": 3
   },
   "file_extension": ".py",
   "mimetype": "text/x-python",
   "name": "python",
   "nbconvert_exporter": "python",
   "pygments_lexer": "ipython3",
   "version": "3.10.12"
  }
 },
 "nbformat": 4,
 "nbformat_minor": 5
}
