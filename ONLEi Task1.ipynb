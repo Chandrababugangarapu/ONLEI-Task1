{
 "cells": [
  {
   "cell_type": "markdown",
   "id": "b1e6d695-7a66-497c-9bd6-c98bb8adc9f0",
   "metadata": {},
   "source": [
    "#ONLEI Technologies Task-1"
   ]
  },
  {
   "cell_type": "code",
   "execution_count": 2,
   "id": "30f2fbb3-ae6a-43bd-8ffe-f482d4abe8ff",
   "metadata": {},
   "outputs": [
    {
     "name": "stdout",
     "output_type": "stream",
     "text": [
      "Addition =  15\n"
     ]
    }
   ],
   "source": [
    "#Exercise 1: Create a function in Python\n",
    "def add(a, b):\n",
    "  c = a + b \n",
    "  return c\n",
    "a = 10\n",
    "b = 5\n",
    "c = add(a,b)\n",
    "print(\"Addition = \", c)\n"
   ]
  },
  {
   "cell_type": "code",
   "execution_count": 3,
   "id": "dc0e5d9b-dddb-4df1-a15d-126f92501aef",
   "metadata": {},
   "outputs": [
    {
     "name": "stdout",
     "output_type": "stream",
     "text": [
      "6\n",
      "50\n"
     ]
    }
   ],
   "source": [
    "#Exercise 2: Create a function with variable length of arguments \n",
    "def var_args(*args):\n",
    "  sum = 0\n",
    "  for num in args:\n",
    "    sum += num\n",
    "  return sum\n",
    "print(var_args(1, 2, 3))  # Output: 6\n",
    "print(var_args(5, 10, 15, 20))  # Output: 50"
   ]
  },
  {
   "cell_type": "code",
   "execution_count": 4,
   "id": "4558448f-be2d-4035-8b5f-1112a1e7c163",
   "metadata": {},
   "outputs": [
    {
     "name": "stdout",
     "output_type": "stream",
     "text": [
      "Area: 15, Perimeter: 16\n"
     ]
    }
   ],
   "source": [
    "#Exercise 3: Return multiple values from a function \n",
    "def calculate_area_and_perimeter(length, width):\n",
    "  area = length * width\n",
    "  perimeter = 2 * (length + width)\n",
    "  return area, perimeter\n",
    "\n",
    "area, perimeter = calculate_area_and_perimeter(5, 3)\n",
    "print(f\"Area: {area}, Perimeter: {perimeter}\")  # Output: Area: 15, Perimeter: 16"
   ]
  },
  {
   "cell_type": "code",
   "execution_count": 5,
   "id": "f3b1e70f-1519-4873-a692-150560d27876",
   "metadata": {},
   "outputs": [
    {
     "name": "stdout",
     "output_type": "stream",
     "text": [
      "Hello, World!\n",
      "Hello, Chandra!\n"
     ]
    }
   ],
   "source": [
    "#Exercise 4: Create a function with a default argument\n",
    "def greet(name=\"World\"):\n",
    "\n",
    "  return f\"Hello, {name}!\"\n",
    "\n",
    "# Example usage\n",
    "print(greet())  # Output: Hello, World!\n",
    "print(greet(\"Chandra\"))  # Output: Hello, Chandra!"
   ]
  },
  {
   "cell_type": "code",
   "execution_count": 6,
   "id": "159cc656-b07f-473b-889f-858c99151a8a",
   "metadata": {},
   "outputs": [
    {
     "name": "stdout",
     "output_type": "stream",
     "text": [
      "13\n"
     ]
    }
   ],
   "source": [
    "#Exercise 5: Create an inner function to calculate the addition in the following way\n",
    "def outer_function():\n",
    "  def inner_function(x, y):\n",
    "    return x + y + 5\n",
    "  # Returning the inner function allows using it elsewhere\n",
    "  return inner_function\n",
    "# Get the inner function (assignment is optional)\n",
    "add_function = outer_function()\n",
    "\n",
    "result = add_function(5, 3)\n",
    "print(result)  # Output: 13"
   ]
  },
  {
   "cell_type": "code",
   "execution_count": 7,
   "id": "202bbd92-35d1-4b93-8627-dabeab5c2415",
   "metadata": {},
   "outputs": [
    {
     "name": "stdout",
     "output_type": "stream",
     "text": [
      "120\n"
     ]
    }
   ],
   "source": [
    "#Exercise 6: Create a recursive function\n",
    "def factorial(n):\n",
    "  if n < 0:\n",
    "    raise ValueError(\"Factorial is not defined for negative numbers\")\n",
    "  elif n == 0:\n",
    "    return 1\n",
    "  else:\n",
    "    return n * factorial(n-1)\n",
    "# Example usage\n",
    "try:\n",
    "  result = factorial(5)\n",
    "  print(result)  # Output: 120\n",
    "except ValueError as e:\n",
    "  print(e)\n"
   ]
  },
  {
   "cell_type": "code",
   "execution_count": 8,
   "id": "19391854-7666-4f8e-b1fa-73b011433306",
   "metadata": {},
   "outputs": [
    {
     "name": "stdout",
     "output_type": "stream",
     "text": [
      "15\n"
     ]
    }
   ],
   "source": [
    "#Exercise 7: Assign a different name to function and call it through the new name \n",
    "def calculate_area(length, width):\n",
    "  return length * width\n",
    "\n",
    "# Assign a new name to the function\n",
    "area_finder = calculate_area\n",
    "\n",
    "# Call the function using the new name\n",
    "result = area_finder(5, 3)\n",
    "print(result)  # Output: 15\n"
   ]
  },
  {
   "cell_type": "code",
   "execution_count": 9,
   "id": "8bcc517f-c8e9-4c8c-ac95-33d43a35f192",
   "metadata": {},
   "outputs": [
    {
     "name": "stdout",
     "output_type": "stream",
     "text": [
      "[4, 6, 8, 10, 12, 14, 16, 18, 20, 22, 24, 26, 28, 30]\n"
     ]
    }
   ],
   "source": [
    "#Exercise 8: Generate a Python list of all the even numbers between 4 to 30\n",
    "# Option 1: Using list comprehension\n",
    "even_numbers = [x for x in range(4, 31) if x % 2 == 0]\n",
    "\n",
    "# Option 2: Using a loop\n",
    "even_numbers = []\n",
    "for num in range(4, 31):\n",
    "  if num % 2 == 0:\n",
    "    even_numbers.append(num)\n",
    "\n",
    "# Print the list of even numbers\n",
    "print(even_numbers)\n"
   ]
  },
  {
   "cell_type": "code",
   "execution_count": 10,
   "id": "37a145ad-913c-44aa-aba1-a136cc7aeeba",
   "metadata": {},
   "outputs": [
    {
     "name": "stdout",
     "output_type": "stream",
     "text": [
      "The largest number is: 67\n"
     ]
    }
   ],
   "source": [
    "#Exercise 9: Find the largest item from a given list\n",
    "# Sample list of numbers\n",
    "numbers = [10, 20, 3, 45, 12, 67]\n",
    "\n",
    "# Find the largest item in the list\n",
    "largest = numbers[0]\n",
    "for num in numbers:\n",
    "  if num > largest:\n",
    "    largest = num\n",
    "\n",
    "# Print the largest number\n",
    "print(f\"The largest number is: {largest}\")\n",
    "\n",
    "#output : The largest number is: 67"
   ]
  },
  {
   "cell_type": "code",
   "execution_count": null,
   "id": "fc81f704-f81f-4cc2-b342-44aa7c30a196",
   "metadata": {},
   "outputs": [],
   "source": []
  }
 ],
 "metadata": {
  "kernelspec": {
   "display_name": "Python 3 (ipykernel)",
   "language": "python",
   "name": "python3"
  },
  "language_info": {
   "codemirror_mode": {
    "name": "ipython",
    "version": 3
   },
   "file_extension": ".py",
   "mimetype": "text/x-python",
   "name": "python",
   "nbconvert_exporter": "python",
   "pygments_lexer": "ipython3",
   "version": "3.10.12"
  }
 },
 "nbformat": 4,
 "nbformat_minor": 5
}
