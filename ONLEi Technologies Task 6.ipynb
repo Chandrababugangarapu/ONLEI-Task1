{
 "cells": [
  {
   "cell_type": "markdown",
   "id": "d5a67cf7-a5e6-48ba-a941-0ccdf7edf04d",
   "metadata": {},
   "source": [
    "ONLEi Technologies TASK - 5"
   ]
  },
  {
   "cell_type": "code",
   "execution_count": 4,
   "id": "db303122-1ad6-4c6c-b3ab-023b2f755dec",
   "metadata": {},
   "outputs": [
    {
     "name": "stdout",
     "output_type": "stream",
     "text": [
      "Python Progrmming\n"
     ]
    }
   ],
   "source": [
    "# Python program to remove given character from String.\n",
    "str = \"Python Programming\"\n",
    "remove = 'a'\n",
    "str1 = ''\n",
    "for i in str:\n",
    "    if i != remove:\n",
    "        str1 += i\n",
    "print(str1)"
   ]
  },
  {
   "cell_type": "code",
   "execution_count": 7,
   "id": "09e89d3b-2721-4cbb-941d-a631c8c9fcdb",
   "metadata": {},
   "outputs": [
    {
     "name": "stdout",
     "output_type": "stream",
     "text": [
      "3\n"
     ]
    }
   ],
   "source": [
    "# Python Program to count occurrence of a given characters in string.\n",
    "str = \"Chandra babu\"\n",
    "character = 'a'\n",
    "count = 0\n",
    "for i in str:\n",
    "    if i == character:\n",
    "        count += 1\n",
    "print(count)\n",
    "    \n"
   ]
  },
  {
   "cell_type": "code",
   "execution_count": 8,
   "id": "92ceb65d-adb4-46c5-aa6a-0e5847d8fdec",
   "metadata": {},
   "outputs": [
    {
     "name": "stdout",
     "output_type": "stream",
     "text": [
      "True\n",
      "False\n",
      "True\n"
     ]
    }
   ],
   "source": [
    "#Python Program to check if two Strings are Anagram.\n",
    "def isAnagram(str1, str2):\n",
    "  # a list to store the frequency of characters in the strings\n",
    "  char_count = [0] * 26\n",
    "\n",
    "  # check if lengths of the strings are same\n",
    "  if len(str1) != len(str2):\n",
    "    return False\n",
    "\n",
    "  # convert strings to lowercase and remove spaces\n",
    "  str1 = str1.lower().replace(\" \", \"\")\n",
    "  str2 = str2.lower().replace(\" \", \"\")\n",
    "\n",
    "  # count the frequency of characters in str1\n",
    "  for char in str1:\n",
    "    char_count[ord(char) - ord('a')] += 1\n",
    "\n",
    "  # check if the same frequency of characters exists in str2\n",
    "  for char in str2:\n",
    "    char_count[ord(char) - ord('a')] -= 1\n",
    "    if char_count[ord(char) - ord('a')] < 0:\n",
    "      return False\n",
    "\n",
    "  # if all characters in char_count are 0, then the strings are anagrams\n",
    "  return all(count == 0 for count in char_count)\n",
    "\n",
    "# Test Cases\n",
    "print(isAnagram(\"silent\", \"listen\"))  \n",
    "print(isAnagram(\"dormitory\", \"dirty room\"))  \n",
    "print(isAnagram(\"keep\", \"peek\"))  \n"
   ]
  },
  {
   "cell_type": "code",
   "execution_count": 9,
   "id": "f6370afb-f041-448e-97de-bc124e154445",
   "metadata": {},
   "outputs": [
    {
     "name": "stdout",
     "output_type": "stream",
     "text": [
      "racecar is a palindrome: True\n",
      "hello is a palindrome: False\n",
      "madam is a palindrome: True\n"
     ]
    }
   ],
   "source": [
    "#Python program to check a String is palindrome or not.\n",
    "def is_palindrome(text):\n",
    "  return text.lower() == text.lower()[::-1]\n",
    "\n",
    "# Test the function with different strings\n",
    "text1 = \"racecar\"\n",
    "text2 = \"hello\"\n",
    "text3 = \"madam\"\n",
    "\n",
    "print(f\"{text1} is a palindrome: {is_palindrome(text1)}\")\n",
    "print(f\"{text2} is a palindrome: {is_palindrome(text2)}\")\n",
    "print(f\"{text3} is a palindrome: {is_palindrome(text3)}\")\n"
   ]
  },
  {
   "cell_type": "code",
   "execution_count": 10,
   "id": "f9f462b0-688c-4f21-93e5-5a62aaff5083",
   "metadata": {},
   "outputs": [
    {
     "name": "stdin",
     "output_type": "stream",
     "text": [
      "Enter a character:  c\n"
     ]
    },
    {
     "name": "stdout",
     "output_type": "stream",
     "text": [
      "c is a consonant.\n"
     ]
    }
   ],
   "source": [
    "# Python program to check given character is vowel or consonant.\n",
    "def is_vowel(char):\n",
    "  vowels = 'aeiouAEIOU'\n",
    "  return char in vowels\n",
    "\n",
    "# Get input from the user\n",
    "user_char = input(\"Enter a character: \")\n",
    "\n",
    "# Check if the character is a vowel or consonant\n",
    "if is_vowel(user_char):\n",
    "  print(f\"{user_char} is a vowel.\")\n",
    "else:\n",
    "  print(f\"{user_char} is a consonant.\")\n"
   ]
  },
  {
   "cell_type": "code",
   "execution_count": 13,
   "id": "8e8617d7-c2b7-40c3-be15-77d2bbb208f2",
   "metadata": {},
   "outputs": [
    {
     "name": "stdin",
     "output_type": "stream",
     "text": [
      "Enter a character:  4\n"
     ]
    },
    {
     "name": "stdout",
     "output_type": "stream",
     "text": [
      "4 is a digit.\n"
     ]
    }
   ],
   "source": [
    "# Python program to check given character is digit or not.\n",
    "def is_digit(char):\n",
    "  return char.isdigit()\n",
    "\n",
    "# Get input from the user\n",
    "user_char = input(\"Enter a character: \")\n",
    "\n",
    "# Check if the character is a digit\n",
    "if is_digit(user_char):\n",
    "  print(f\"{user_char} is a digit.\")\n",
    "else:\n",
    "  print(f\"{user_char} is not a digit.\")\n"
   ]
  },
  {
   "cell_type": "code",
   "execution_count": 14,
   "id": "66779ac1-e757-4da3-b566-7cf70f8b3673",
   "metadata": {},
   "outputs": [
    {
     "name": "stdin",
     "output_type": "stream",
     "text": [
      "Enter a character:  c\n"
     ]
    },
    {
     "name": "stdout",
     "output_type": "stream",
     "text": [
      "c is not a digit\n"
     ]
    }
   ],
   "source": [
    "#Python program to check given character is digit or not using isdigit() method.\n",
    "char = input(\"Enter a character: \")\n",
    "\n",
    "if char.isdigit():\n",
    "  print(char, \"is a digit\")\n",
    "else:\n",
    "  print(char, \"is not a digit\")\n"
   ]
  },
  {
   "cell_type": "code",
   "execution_count": 15,
   "id": "269ca1d1-c9ec-4ed8-a383-2dda6ecac63a",
   "metadata": {},
   "outputs": [
    {
     "name": "stdout",
     "output_type": "stream",
     "text": [
      "This-is-a-string-with-spaces.\n"
     ]
    }
   ],
   "source": [
    "#Python program to replace the string space with a given character.\n",
    "def replace_spaces(string, char):\n",
    "\n",
    "  return string.replace(\" \", char)\n",
    "\n",
    "# Example usage\n",
    "string = \"This is a string with spaces.\"\n",
    "new_string = replace_spaces(string, \"-\")\n",
    "print(new_string)\n"
   ]
  },
  {
   "cell_type": "code",
   "execution_count": 1,
   "id": "f41227c2-eecd-4cba-a959-da26afe7b9ab",
   "metadata": {},
   "outputs": [
    {
     "name": "stdout",
     "output_type": "stream",
     "text": [
      "This_is_a_string_with_spaces\n"
     ]
    }
   ],
   "source": [
    "#Python program to replace the string space with a given character using replace() method.\n",
    "\n",
    "string = \"This is a string with spaces\"\n",
    "\n",
    "# Replace spaces with underscore using replace() method\n",
    "new_string = string.replace(\" \", \"_\")\n",
    "\n",
    "# Print the modified string\n",
    "print(new_string)\n"
   ]
  },
  {
   "cell_type": "code",
   "execution_count": 2,
   "id": "a01a6251-79bb-4e1b-beb7-df460aebd23e",
   "metadata": {},
   "outputs": [
    {
     "name": "stdout",
     "output_type": "stream",
     "text": [
      "THIS IS A STRING WITH MIXED CASE\n"
     ]
    }
   ],
   "source": [
    "# Python program to convert lowercase char to uppercase of string.\n",
    "def convert_to_uppercase(string):\n",
    "  # Convert the string to uppercase using upper() method\n",
    "  uppercase_string = string.upper()\n",
    "\n",
    "  return uppercase_string\n",
    "\n",
    "string = \"This is a string with mixed case\"\n",
    "uppercase_string = convert_to_uppercase(string)\n",
    "\n",
    "print(uppercase_string)\n"
   ]
  },
  {
   "cell_type": "code",
   "execution_count": 3,
   "id": "de609706-aea9-4731-8ec0-9ad3a172d8e2",
   "metadata": {},
   "outputs": [
    {
     "name": "stdout",
     "output_type": "stream",
     "text": [
      "ThIs Is A strIng wIth vOwEls\n"
     ]
    }
   ],
   "source": [
    "# Python program to convert lowercase vowel to uppercase in string.\n",
    "def convert_vowel_to_uppercase(string):\n",
    "  vowels = 'aeiou'\n",
    "  uppercase_string = \"\"\n",
    "  for char in string:\n",
    "    if char.islower() and char in vowels:\n",
    "      # Convert lowercase vowel to uppercase\n",
    "      uppercase_string += char.upper()\n",
    "    else:\n",
    "      # Append the character without any changes\n",
    "      uppercase_string += char\n",
    "\n",
    "  return uppercase_string\n",
    "\n",
    "string = \"This is a string with vowels\"\n",
    "uppercase_string = convert_vowel_to_uppercase(string)\n",
    "\n",
    "print(uppercase_string)\n"
   ]
  },
  {
   "cell_type": "code",
   "execution_count": 4,
   "id": "0c264945-5339-45e0-9160-c5142770a08d",
   "metadata": {},
   "outputs": [
    {
     "name": "stdout",
     "output_type": "stream",
     "text": [
      "Ths s  strng wth vwls\n"
     ]
    }
   ],
   "source": [
    "# Python program to delete vowels in a given string.\n",
    "def remove_vowels(string):\n",
    "  consonants = \"\"\n",
    "  for char in string:\n",
    "    if char.lower() not in 'aeiou':\n",
    "      # Append consonants and non-lowercase characters\n",
    "      consonants += char\n",
    "\n",
    "  return consonants\n",
    "\n",
    "string = \"This is a string with vowels\"\n",
    "string_without_vowels = remove_vowels(string)\n",
    "\n",
    "print(string_without_vowels)\n"
   ]
  },
  {
   "cell_type": "code",
   "execution_count": 5,
   "id": "00b5ece6-4a61-4f4d-92cf-611f49d08473",
   "metadata": {},
   "outputs": [
    {
     "name": "stdout",
     "output_type": "stream",
     "text": [
      "Vowels: 11\n",
      "Consonants: 25\n"
     ]
    }
   ],
   "source": [
    "# Python program to count the Occurrence Of Vowels & Consonants in a String.\n",
    "def count_vowels_consonants(string):\n",
    "  vowels = 'aeiou'\n",
    "  vowel_count = 0\n",
    "  consonant_count = 0\n",
    "  for char in string:\n",
    "    if char.isalpha():  # Check if character is alphabetic\n",
    "      if char.lower() in vowels:\n",
    "        vowel_count += 1\n",
    "      else:\n",
    "        consonant_count += 1\n",
    "\n",
    "  return {'vowels': vowel_count, 'consonants': consonant_count}\n",
    "\n",
    "string = \"This is a string with vowels and consonants\"\n",
    "counts = count_vowels_consonants(string)\n",
    "\n",
    "print(f\"Vowels: {counts['vowels']}\")\n",
    "print(f\"Consonants: {counts['consonants']}\")\n"
   ]
  },
  {
   "cell_type": "code",
   "execution_count": 7,
   "id": "e2f6d0b7-f521-4ab3-b66f-2fdb19ffb4cf",
   "metadata": {},
   "outputs": [
    {
     "name": "stdout",
     "output_type": "stream",
     "text": [
      "The character with the highest frequency in 'Mississippi' is 'i'.\n"
     ]
    }
   ],
   "source": [
    "# Python program to print the highest frequency character in a String.\n",
    "def highest_freq_char(string):\n",
    "  char_freq = {}\n",
    "  for char in string:\n",
    "    if char in char_freq:\n",
    "      char_freq[char] += 1\n",
    "    else:\n",
    "      char_freq[char] = 1\n",
    "  max_freq = max(char_freq.values(), default=0)\n",
    "  for char, freq in char_freq.items():\n",
    "    if freq == max_freq:\n",
    "      return char\n",
    "  return None\n",
    "\n",
    "# Example usage\n",
    "string = \"Mississippi\"\n",
    "highest_freq_char = highest_freq_char(string)\n",
    "if highest_freq_char:\n",
    "  print(f\"The character with the highest frequency in '{string}' is '{highest_freq_char}'.\")\n",
    "else:\n",
    "  print(f\"The string '{string}' is empty.\")\n"
   ]
  },
  {
   "cell_type": "code",
   "execution_count": 8,
   "id": "1917983f-9086-41f1-8344-6472bf556d6b",
   "metadata": {},
   "outputs": [
    {
     "name": "stdout",
     "output_type": "stream",
     "text": [
      "Original string: Hello, World!\n",
      "Modified string: H-llo, World!\n"
     ]
    }
   ],
   "source": [
    "# Python program to Replace First Occurrence Of Vowel With ‘-‘ in String.\n",
    "def replace_first_vowel(string):\n",
    "  vowels = set('aeiouAEIOU')\n",
    "  for i, char in enumerate(string):\n",
    "    if char in vowels:\n",
    "      return string[:i] + '-' + string[i+1:]\n",
    "  return string\n",
    "\n",
    "string = \"Hello, World!\"\n",
    "modified_string = replace_first_vowel(string)\n",
    "print(f\"Original string: {string}\")\n",
    "print(f\"Modified string: {modified_string}\")\n"
   ]
  },
  {
   "cell_type": "code",
   "execution_count": 9,
   "id": "609da86f-4b67-4ebd-ba3c-cfb654f5d27d",
   "metadata": {},
   "outputs": [
    {
     "name": "stdout",
     "output_type": "stream",
     "text": [
      "String: Hello, World! 123\n",
      "{'alphabets': 10, 'digits': 3, 'special_chars': 4}\n"
     ]
    }
   ],
   "source": [
    "# Python program to count alphabets, digits and special characters.\n",
    "def count_chars(string):\n",
    "  alphabets = 0\n",
    "  digits = 0\n",
    "  special_chars = 0\n",
    "  for char in string:\n",
    "    if char.isalpha():\n",
    "      alphabets += 1\n",
    "    elif char.isdigit():\n",
    "      digits += 1\n",
    "    else:\n",
    "      special_chars += 1\n",
    "  return {\n",
    "    'alphabets': alphabets,\n",
    "    'digits': digits,\n",
    "    'special_chars': special_chars\n",
    "  }\n",
    "\n",
    "# Example usage\n",
    "string = \"Hello, World! 123\"\n",
    "char_counts = count_chars(string)\n",
    "print(f\"String: {string}\")\n",
    "print(char_counts)\n"
   ]
  },
  {
   "cell_type": "code",
   "execution_count": 11,
   "id": "58ac0a61-a1d3-4b46-81d2-7e95ef632d71",
   "metadata": {},
   "outputs": [
    {
     "name": "stdout",
     "output_type": "stream",
     "text": [
      "Original string: Hello World!\n",
      "Separated characters: ['H', 'e', 'l', 'l', 'o', ' ', 'W', 'o', 'r', 'l', 'd', '!']\n"
     ]
    }
   ],
   "source": [
    "# Python program to separate characters in a given string.\n",
    "def separate_chars(string):\n",
    "  char_list = []\n",
    "  for char in string:\n",
    "    char_list.append(char)\n",
    "  return char_list\n",
    "\n",
    "# Example usage\n",
    "string = \"Hello World!\"\n",
    "separated_chars = separate_chars(string)\n",
    "print(f\"Original string: {string}\")\n",
    "print(f\"Separated characters: {separated_chars}\")\n"
   ]
  },
  {
   "cell_type": "code",
   "execution_count": 13,
   "id": "c67d4331-f05d-48a3-80bd-ac807b8d0b4c",
   "metadata": {},
   "outputs": [
    {
     "name": "stdout",
     "output_type": "stream",
     "text": [
      "Original string: Hello World! This is Chandra babu\n",
      "String without blanks: HelloWorld!ThisisChandrababu\n"
     ]
    }
   ],
   "source": [
    "#Python program to remove blank space from string.\n",
    "def remove_blanks(string):\n",
    "  new_string = \"\"\n",
    "  for char in string:\n",
    "    if not char.isspace():\n",
    "      new_string += char\n",
    "  return new_string\n",
    "\n",
    "# Example usage (same as method 1)\n",
    "string = \"Hello World! This is Chandra babu\"\n",
    "string_without_blanks = remove_blanks(string)\n",
    "print(f\"Original string: {string}\")\n",
    "print(f\"String without blanks: {string_without_blanks}\")\n"
   ]
  },
  {
   "cell_type": "code",
   "execution_count": 14,
   "id": "a55a92c8-843f-4a3d-ba02-f85d8aa9b553",
   "metadata": {},
   "outputs": [
    {
     "name": "stdout",
     "output_type": "stream",
     "text": [
      "String 1: Chandra\n",
      "String 2: Babu!\n",
      "Concatenated string: ChandraBabu!\n"
     ]
    }
   ],
   "source": [
    "# Python program to concatenate two strings using join() method.\n",
    "def concatenate_strings(string1, string2):\n",
    "  name = \"\"  # Empty String for joining without separation\n",
    "  concatenated_string = name.join([string1, string2])\n",
    "  return concatenated_string\n",
    "\n",
    "# Example usage\n",
    "string1 = \"Chandra\"\n",
    "string2 = \"Babu!\"\n",
    "concatenated_string = concatenate_strings(string1, string2)\n",
    "print(f\"String 1: {string1}\")\n",
    "print(f\"String 2: {string2}\")\n",
    "print(f\"Concatenated string: {concatenated_string}\")\n"
   ]
  },
  {
   "cell_type": "code",
   "execution_count": 15,
   "id": "4069df3c-8014-464b-9549-e0d4b7e1889c",
   "metadata": {},
   "outputs": [
    {
     "name": "stdout",
     "output_type": "stream",
     "text": [
      "String 1: Hello \n",
      "String 2: Chandra babu!\n",
      "Concatenated string: Hello Chandra babu!\n"
     ]
    }
   ],
   "source": [
    "# Python program to concatenate two strings without using join() method.\n",
    "def concatenate_strings(string1, string2):\n",
    "  return string1 + string2\n",
    "\n",
    "# Example usage\n",
    "string1 = \"Hello \"\n",
    "string2 = \"Chandra babu!\"\n",
    "concatenated_string = concatenate_strings(string1, string2)\n",
    "print(f\"String 1: {string1}\")\n",
    "print(f\"String 2: {string2}\")\n",
    "print(f\"Concatenated string: {concatenated_string}\")\n"
   ]
  },
  {
   "cell_type": "code",
   "execution_count": 18,
   "id": "1a816a80-6d09-4ec6-9e39-f7b94261e1c5",
   "metadata": {},
   "outputs": [
    {
     "name": "stdout",
     "output_type": "stream",
     "text": [
      "Chandrbu\n"
     ]
    }
   ],
   "source": [
    "# Python program to remove repeated character from string.\n",
    "def remove_duplicates(string):\n",
    "  seen = set()\n",
    "  new_string = \"\"\n",
    "  for char in string:\n",
    "    if char not in seen:\n",
    "      seen.add(char)\n",
    "      new_string += char\n",
    "  return new_string\n",
    "\n",
    "# Example usage\n",
    "string = \"Chandrababu\"\n",
    "result = remove_duplicates(string)\n",
    "print(result)  # Output: ABCD\n"
   ]
  },
  {
   "cell_type": "code",
   "execution_count": 19,
   "id": "c16c6f79-6fd9-403e-94e7-c17a93e2eaa7",
   "metadata": {},
   "outputs": [
    {
     "name": "stdout",
     "output_type": "stream",
     "text": [
      "579\n"
     ]
    }
   ],
   "source": [
    "# Python program to calculate sum of integers in string.\n",
    "def sum_integers(string):\n",
    "  total_sum = 0\n",
    "  current_number = \"\"\n",
    "  for char in string:\n",
    "    if char.isdigit():\n",
    "      current_number += char\n",
    "    elif current_number:\n",
    "      total_sum += int(current_number)\n",
    "      current_number = \"\"\n",
    "  # Add the last number if any\n",
    "  if current_number:\n",
    "    total_sum += int(current_number)\n",
    "  return total_sum\n",
    "\n",
    "# Example usage\n",
    "string = \"hello123there456\"\n",
    "result = sum_integers(string)\n",
    "print(result)  # Output: 579\n"
   ]
  },
  {
   "cell_type": "code",
   "execution_count": 20,
   "id": "faf0fffa-bbb4-4be1-a529-e6a45de95b66",
   "metadata": {},
   "outputs": [
    {
     "name": "stdout",
     "output_type": "stream",
     "text": [
      "b"
     ]
    }
   ],
   "source": [
    "# Python program to print all non repeating character in string.\n",
    "def print_non_repeating(string):\n",
    "  char_dict = {}\n",
    "  for char in string:\n",
    "    if char in char_dict:\n",
    "      char_dict[char] += 1\n",
    "    else:\n",
    "      char_dict[char] = 1\n",
    "  for char, count in char_dict.items():\n",
    "    if count == 1:\n",
    "      print(char, end=\"\")\n",
    "\n",
    "# Example usage\n",
    "string = \"aabccdd\"\n",
    "print_non_repeating(string)\n"
   ]
  },
  {
   "cell_type": "code",
   "execution_count": 24,
   "id": "95447bfe-ae6d-4b94-af80-5e766ae2da76",
   "metadata": {},
   "outputs": [
    {
     "name": "stdout",
     "output_type": "stream",
     "text": [
      "Hello, world!\n"
     ]
    }
   ],
   "source": [
    "# Python program to copy one string to another string. \n",
    "def copy_string(source_string, destination_string):\n",
    "  destination_string = source_string[:]\n",
    "\n",
    "  return destination_string\n",
    "\n",
    "# Example usage\n",
    "source_string = \"Hello, world!\"\n",
    "destination_string = \"\"\n",
    "\n",
    "destination_string = copy_string(source_string, destination_string)\n",
    "print(destination_string)  \n"
   ]
  },
  {
   "cell_type": "code",
   "execution_count": 25,
   "id": "cd20c8b1-bab0-4065-8189-0e2088674b64",
   "metadata": {},
   "outputs": [
    {
     "name": "stdout",
     "output_type": "stream",
     "text": [
      "aelpp\n"
     ]
    }
   ],
   "source": [
    "# Python Program to sort characters of string in ascending order.\n",
    "def sort_string(string):\n",
    "  return ''.join(sorted(string))\n",
    "\n",
    "# Example usage\n",
    "string = \"apple\"\n",
    "sorted_string = sort_string(string)\n",
    "print(sorted_string)  \n"
   ]
  },
  {
   "cell_type": "code",
   "execution_count": 27,
   "id": "82ccbe58-5559-42b3-bd7e-92739b72c826",
   "metadata": {},
   "outputs": [
    {
     "name": "stdout",
     "output_type": "stream",
     "text": [
      "pplea\n"
     ]
    }
   ],
   "source": [
    "# Python Program to sort character of string in descending order.\n",
    "def sort_string_descending(string):\n",
    "  return ''.join(sorted(string, reverse=True))\n",
    "\n",
    "# Example usage\n",
    "string = \"apple\"\n",
    "sorted_string = sort_string_descending(string)\n",
    "print(sorted_string) \n"
   ]
  },
  {
   "cell_type": "code",
   "execution_count": null,
   "id": "9f3e315d-f54b-42a6-bb33-65044ad96c99",
   "metadata": {},
   "outputs": [],
   "source": []
  }
 ],
 "metadata": {
  "kernelspec": {
   "display_name": "Python 3 (ipykernel)",
   "language": "python",
   "name": "python3"
  },
  "language_info": {
   "codemirror_mode": {
    "name": "ipython",
    "version": 3
   },
   "file_extension": ".py",
   "mimetype": "text/x-python",
   "name": "python",
   "nbconvert_exporter": "python",
   "pygments_lexer": "ipython3",
   "version": "3.10.12"
  }
 },
 "nbformat": 4,
 "nbformat_minor": 5
}
