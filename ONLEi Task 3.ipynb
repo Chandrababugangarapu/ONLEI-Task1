{
 "cells": [
  {
   "cell_type": "code",
   "execution_count": 2,
   "id": "9bb9d483-fede-4b2d-bec5-609ab15b7c0e",
   "metadata": {},
   "outputs": [
    {
     "name": "stdout",
     "output_type": "stream",
     "text": [
      "[5, 4, 3, 2, 1]\n",
      "Reversed list [5, 4, 3, 2, 1]\n"
     ]
    }
   ],
   "source": [
    "#Exercise 1: Reverse a list in Python\n",
    "# Method 1- using reverse() method \n",
    "my_list = [1, 2, 3, 4, 5]\n",
    "my_list.reverse()\n",
    "\n",
    "print(my_list)  # Output: [5, 4, 3, 2, 1]\n",
    "# Method 2 - using slicing \n",
    "my_list = [1, 2, 3, 4, 5]\n",
    "reversed_list = my_list[::-1]\n",
    "print(\"Reversed list\",reversed_list)  # Output: [5, 4, 3, 2, 1]\n"
   ]
  },
  {
   "cell_type": "code",
   "execution_count": 3,
   "id": "a9c09ecf-9801-406c-9cfd-f38da72809ab",
   "metadata": {},
   "outputs": [
    {
     "name": "stdout",
     "output_type": "stream",
     "text": [
      "[1, 2, 3, 9, 8, 7]\n"
     ]
    }
   ],
   "source": [
    "#Exercise 2: Concatenate two lists index-wise\n",
    "list_1 = [1,2,3]\n",
    "list_2 = [9,8,7]\n",
    "\n",
    "concatenated_list = list_1 + list_2 \n",
    "print(concatenated_list)"
   ]
  },
  {
   "cell_type": "code",
   "execution_count": 8,
   "id": "429e650c-d043-4085-9548-fb2850d8d31a",
   "metadata": {},
   "outputs": [
    {
     "name": "stdout",
     "output_type": "stream",
     "text": [
      "[1, 4, 9, 16, 25, 36]\n"
     ]
    }
   ],
   "source": [
    "#Exercise 3: Turn every item of a list into its square\n",
    "mylist = [1,2,3,4,5,6]\n",
    "square_list = []\n",
    "for i in mylist:\n",
    "    square_list.append(i**2)\n",
    "print(square_list)"
   ]
  },
  {
   "cell_type": "code",
   "execution_count": 11,
   "id": "0886c5ea-8ceb-4632-a74d-075097638ca6",
   "metadata": {},
   "outputs": [
    {
     "name": "stdout",
     "output_type": "stream",
     "text": [
      "['Hello ', 'take ', 'Dear', 'Sir']\n"
     ]
    }
   ],
   "source": [
    "#Exercise 4: Concatenate two lists in the following order\n",
    "# list1 = [\"Hello \", \"take \"]\n",
    "# list2 = [\"Dear\", \"Sir\"]\n",
    "list1 = [\"Hello \", \"take \"]\n",
    "list2 = [\"Dear\", \"Sir\"]\n",
    "print(list1 + list2)\n"
   ]
  },
  {
   "cell_type": "code",
   "execution_count": 13,
   "id": "c317317b-a4aa-4a45-a38b-2568476aa8a4",
   "metadata": {},
   "outputs": [
    {
     "name": "stdout",
     "output_type": "stream",
     "text": [
      "10 100\n",
      "20 200\n",
      "30 300\n",
      "40 400\n"
     ]
    }
   ],
   "source": [
    "#Exercise 5: Iterate both lists simultaneously\n",
    "list1 = [10, 20, 30, 40]\n",
    "list2 = [100, 200, 300, 400]\n",
    "\n",
    "for num1,num2 in zip(list1,list2):\n",
    "    print(num1, num2)"
   ]
  },
  {
   "cell_type": "code",
   "execution_count": 16,
   "id": "88459af3-3a85-4777-aa51-81ccbf115a34",
   "metadata": {},
   "outputs": [
    {
     "name": "stdout",
     "output_type": "stream",
     "text": [
      "['apple', 'banana', 'cherry']\n"
     ]
    }
   ],
   "source": [
    "#Exercise 6: Remove empty strings from the list of strings\n",
    "my_list = [\"apple\", \"\", \"banana\", \"\", \"cherry\"] \n",
    "list = []\n",
    "for item in my_list:\n",
    "    if item:\n",
    "        list.append(item)\n",
    "print(list)\n",
    "        "
   ]
  },
  {
   "cell_type": "code",
   "execution_count": 17,
   "id": "5e4f4513-2048-4a4c-8640-28f53d02b8d3",
   "metadata": {},
   "outputs": [
    {
     "name": "stdout",
     "output_type": "stream",
     "text": [
      "['apple', 'banana', 'mango', 'cherry']\n"
     ]
    }
   ],
   "source": [
    "#Exercise 7: Add new item to list after a specified item \n",
    "fruits = [\"apple\", \"banana\", \"cherry\"]\n",
    "new_item = \"mango\"\n",
    "insert_after = \"banana\"\n",
    "\n",
    "# Find the index of the item to insert after\n",
    "index = fruits.index(insert_after)\n",
    "\n",
    "# Insert the new item at the specified index + 1 (to insert after)\n",
    "fruits.insert(index + 1, new_item)\n",
    "\n",
    "print(fruits)\n"
   ]
  },
  {
   "cell_type": "code",
   "execution_count": 18,
   "id": "654fd672-d324-42dc-811c-2759da368cfc",
   "metadata": {},
   "outputs": [
    {
     "name": "stdout",
     "output_type": "stream",
     "text": [
      "[[1, 2, 3], [4, 5], 'a', 'b']\n"
     ]
    }
   ],
   "source": [
    "#Exercise 8: Extend nested list by adding the sublist\n",
    "nested_list = [[1, 2, 3], [4, 5]]\n",
    "sublist = [\"a\", \"b\"]\n",
    "\n",
    "nested_list.extend(sublist)\n",
    "\n",
    "print(nested_list)  # Output: [[1, 2, 3], [4, 5], \"a\", \"b\"]\n"
   ]
  },
  {
   "cell_type": "code",
   "execution_count": 19,
   "id": "1c7af5c6-6cfa-4565-a289-0457b667d251",
   "metadata": {},
   "outputs": [
    {
     "name": "stdout",
     "output_type": "stream",
     "text": [
      "[1, 10, 3, 2, 5]\n"
     ]
    }
   ],
   "source": [
    "# Exercise 9: Replace list’s item with new value if found\n",
    "def replace_item(my_list, old_value, new_value):\n",
    "\n",
    "  new_list = my_list.copy()  # Create a copy to avoid modifying the original list\n",
    "  for i, item in enumerate(new_list):\n",
    "    if item == old_value:\n",
    "      new_list[i] = new_value\n",
    "      return new_list  # Exit after the first replacement is made\n",
    "  return my_list  # Return the original list if no replacement was made\n",
    "\n",
    "# Example usage\n",
    "my_list = [1, 2, 3, 2, 5]\n",
    "old_value = 2\n",
    "new_value = 10\n",
    "\n",
    "replaced_list = replace_item(my_list, old_value, new_value)\n",
    "print(replaced_list)  # Output: [1, 10, 3, 10, 5]\n"
   ]
  },
  {
   "cell_type": "code",
   "execution_count": 20,
   "id": "103001e5-e14f-4df4-a262-a3e9a7954dfb",
   "metadata": {},
   "outputs": [
    {
     "name": "stdout",
     "output_type": "stream",
     "text": [
      "[1, 3, 5]\n"
     ]
    }
   ],
   "source": [
    "#Exercise 10: Remove all occurrences of a specific item from a list.\n",
    "def remove_all(my_list, item_to_remove):\n",
    "\n",
    "  return [item for item in my_list if item != item_to_remove]\n",
    "\n",
    "# Example usage\n",
    "my_list = [1, 2, 3, 2, 5, 2]\n",
    "item_to_remove = 2\n",
    "\n",
    "filtered_list = remove_all(my_list, item_to_remove)\n",
    "print(filtered_list)  # Output: [1, 3, 5]\n"
   ]
  },
  {
   "cell_type": "code",
   "execution_count": null,
   "id": "16cecdeb-9eb3-41c4-bf07-cf0feace7368",
   "metadata": {},
   "outputs": [],
   "source": []
  }
 ],
 "metadata": {
  "kernelspec": {
   "display_name": "Python 3 (ipykernel)",
   "language": "python",
   "name": "python3"
  },
  "language_info": {
   "codemirror_mode": {
    "name": "ipython",
    "version": 3
   },
   "file_extension": ".py",
   "mimetype": "text/x-python",
   "name": "python",
   "nbconvert_exporter": "python",
   "pygments_lexer": "ipython3",
   "version": "3.10.12"
  }
 },
 "nbformat": 4,
 "nbformat_minor": 5
}
